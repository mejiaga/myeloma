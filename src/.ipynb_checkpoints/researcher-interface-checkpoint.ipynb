{
 "cells": [
  {
   "cell_type": "markdown",
   "metadata": {},
   "source": [
    "These imports are required for the training and evaluation of the model"
   ]
  },
  {
   "cell_type": "code",
   "execution_count": 4,
   "metadata": {},
   "outputs": [
    {
     "name": "stdout",
     "output_type": "stream",
     "text": [
      "\n"
     ]
    }
   ],
   "source": [
    "import pandas as pd\n",
    "import numpy as np\n",
    "import matplotlib.pyplot as plt\n",
    "\n",
    "from sklearn.metrics import accuracy_score\n",
    "from sklearn.model_selection import train_test_split\n",
    "from sklearn.svm import SVC\n",
    "from sklearn.metrics import average_precision_score\n",
    "from sklearn.metrics import precision_recall_curve\n",
    "from sklearn import linear_model\n",
    "from sklearn.preprocessing import Normalizer\n",
    "from sklearn.metrics import confusion_matrix\n",
    "from sklearn.preprocessing import Imputer\n",
    "from sklearn.metrics import f1_score\n",
    "from sklearn import manifold"
   ]
  },
  {
   "cell_type": "markdown",
   "metadata": {},
   "source": [
    "The next cell load and clean data for a model used to predict whether or not a subject will survive until the end of the study. This was a prelimenary step used by the developers of this application to identify features to use in our final model. "
   ]
  },
  {
   "cell_type": "code",
   "execution_count": 5,
   "metadata": {},
   "outputs": [
    {
     "name": "stderr",
     "output_type": "stream",
     "text": [
      "/usr/local/lib/python2.7/dist-packages/ipykernel_launcher.py:3: SettingWithCopyWarning: \n",
      "A value is trying to be set on a copy of a slice from a DataFrame.\n",
      "Try using .loc[row_indexer,col_indexer] = value instead\n",
      "\n",
      "See the caveats in the documentation: http://pandas.pydata.org/pandas-docs/stable/indexing.html#indexing-view-versus-copy\n",
      "  This is separate from the ipykernel package so we can avoid doing imports until\n"
     ]
    }
   ],
   "source": [
    "csv = pd.read_csv('../data/PER_PATIENT.csv')\n",
    "data = csv[['D_PT_gender', 'D_PT_age', 'CREATININE', 'D_PT_therclassn', 'sctflag', 'D_PT_iss', 'D_PT_PRIMARYREASON']]\n",
    "data['D_PT_PRIMARYREASON'] = data['D_PT_PRIMARYREASON'].fillna(value=0)\n",
    "data = data.dropna()\n",
    "\n",
    "data = data.replace({'Death': 1})\n",
    "\n",
    "data = data[(data['D_PT_PRIMARYREASON'] == 1) | (data['D_PT_PRIMARYREASON'] == 0)]\n",
    "X = data[['D_PT_gender', 'D_PT_age', 'CREATININE', 'D_PT_therclassn', 'sctflag', 'D_PT_iss']]\n",
    "y = data['D_PT_PRIMARYREASON'].astype(int)"
   ]
  },
  {
   "cell_type": "markdown",
   "metadata": {},
   "source": [
    "Here we present a table of several patient visits used for the training of this model. Refer to the documentation for explanation on feature interpretation. All categorical features were convereted to numeric values for the purpose of model training. "
   ]
  },
  {
   "cell_type": "code",
   "execution_count": 6,
   "metadata": {},
   "outputs": [
    {
     "data": {
      "text/html": [
       "<div>\n",
       "<style scoped>\n",
       "    .dataframe tbody tr th:only-of-type {\n",
       "        vertical-align: middle;\n",
       "    }\n",
       "\n",
       "    .dataframe tbody tr th {\n",
       "        vertical-align: top;\n",
       "    }\n",
       "\n",
       "    .dataframe thead th {\n",
       "        text-align: right;\n",
       "    }\n",
       "</style>\n",
       "<table border=\"1\" class=\"dataframe\">\n",
       "  <thead>\n",
       "    <tr style=\"text-align: right;\">\n",
       "      <th></th>\n",
       "      <th>D_PT_gender</th>\n",
       "      <th>D_PT_age</th>\n",
       "      <th>CREATININE</th>\n",
       "      <th>D_PT_therclassn</th>\n",
       "      <th>sctflag</th>\n",
       "      <th>D_PT_iss</th>\n",
       "      <th>D_PT_PRIMARYREASON</th>\n",
       "    </tr>\n",
       "  </thead>\n",
       "  <tbody>\n",
       "    <tr>\n",
       "      <th>1</th>\n",
       "      <td>1</td>\n",
       "      <td>75.0</td>\n",
       "      <td>79.56</td>\n",
       "      <td>3.0</td>\n",
       "      <td>0.0</td>\n",
       "      <td>1.0</td>\n",
       "      <td>1</td>\n",
       "    </tr>\n",
       "    <tr>\n",
       "      <th>2</th>\n",
       "      <td>2</td>\n",
       "      <td>79.0</td>\n",
       "      <td>123.76</td>\n",
       "      <td>1.0</td>\n",
       "      <td>0.0</td>\n",
       "      <td>2.0</td>\n",
       "      <td>0</td>\n",
       "    </tr>\n",
       "    <tr>\n",
       "      <th>3</th>\n",
       "      <td>1</td>\n",
       "      <td>69.0</td>\n",
       "      <td>97.24</td>\n",
       "      <td>3.0</td>\n",
       "      <td>0.0</td>\n",
       "      <td>3.0</td>\n",
       "      <td>0</td>\n",
       "    </tr>\n",
       "    <tr>\n",
       "      <th>4</th>\n",
       "      <td>1</td>\n",
       "      <td>64.0</td>\n",
       "      <td>79.56</td>\n",
       "      <td>3.0</td>\n",
       "      <td>0.0</td>\n",
       "      <td>1.0</td>\n",
       "      <td>0</td>\n",
       "    </tr>\n",
       "    <tr>\n",
       "      <th>5</th>\n",
       "      <td>1</td>\n",
       "      <td>78.0</td>\n",
       "      <td>176.80</td>\n",
       "      <td>1.0</td>\n",
       "      <td>0.0</td>\n",
       "      <td>3.0</td>\n",
       "      <td>1</td>\n",
       "    </tr>\n",
       "    <tr>\n",
       "      <th>6</th>\n",
       "      <td>1</td>\n",
       "      <td>74.0</td>\n",
       "      <td>97.24</td>\n",
       "      <td>1.0</td>\n",
       "      <td>0.0</td>\n",
       "      <td>2.0</td>\n",
       "      <td>1</td>\n",
       "    </tr>\n",
       "    <tr>\n",
       "      <th>7</th>\n",
       "      <td>1</td>\n",
       "      <td>47.0</td>\n",
       "      <td>159.12</td>\n",
       "      <td>1.0</td>\n",
       "      <td>1.0</td>\n",
       "      <td>2.0</td>\n",
       "      <td>1</td>\n",
       "    </tr>\n",
       "    <tr>\n",
       "      <th>8</th>\n",
       "      <td>2</td>\n",
       "      <td>59.0</td>\n",
       "      <td>88.40</td>\n",
       "      <td>1.0</td>\n",
       "      <td>1.0</td>\n",
       "      <td>2.0</td>\n",
       "      <td>0</td>\n",
       "    </tr>\n",
       "    <tr>\n",
       "      <th>9</th>\n",
       "      <td>2</td>\n",
       "      <td>66.0</td>\n",
       "      <td>53.04</td>\n",
       "      <td>3.0</td>\n",
       "      <td>0.0</td>\n",
       "      <td>1.0</td>\n",
       "      <td>0</td>\n",
       "    </tr>\n",
       "    <tr>\n",
       "      <th>10</th>\n",
       "      <td>1</td>\n",
       "      <td>81.0</td>\n",
       "      <td>70.72</td>\n",
       "      <td>3.0</td>\n",
       "      <td>0.0</td>\n",
       "      <td>1.0</td>\n",
       "      <td>1</td>\n",
       "    </tr>\n",
       "  </tbody>\n",
       "</table>\n",
       "</div>"
      ],
      "text/plain": [
       "    D_PT_gender  D_PT_age  CREATININE  D_PT_therclassn  sctflag  D_PT_iss  \\\n",
       "1             1      75.0       79.56              3.0      0.0       1.0   \n",
       "2             2      79.0      123.76              1.0      0.0       2.0   \n",
       "3             1      69.0       97.24              3.0      0.0       3.0   \n",
       "4             1      64.0       79.56              3.0      0.0       1.0   \n",
       "5             1      78.0      176.80              1.0      0.0       3.0   \n",
       "6             1      74.0       97.24              1.0      0.0       2.0   \n",
       "7             1      47.0      159.12              1.0      1.0       2.0   \n",
       "8             2      59.0       88.40              1.0      1.0       2.0   \n",
       "9             2      66.0       53.04              3.0      0.0       1.0   \n",
       "10            1      81.0       70.72              3.0      0.0       1.0   \n",
       "\n",
       "   D_PT_PRIMARYREASON  \n",
       "1                   1  \n",
       "2                   0  \n",
       "3                   0  \n",
       "4                   0  \n",
       "5                   1  \n",
       "6                   1  \n",
       "7                   1  \n",
       "8                   0  \n",
       "9                   0  \n",
       "10                  1  "
      ]
     },
     "execution_count": 6,
     "metadata": {},
     "output_type": "execute_result"
    }
   ],
   "source": [
    "data[:10]"
   ]
  },
  {
   "cell_type": "markdown",
   "metadata": {},
   "source": [
    "Finally, we train the model using a support vector machine with a linear kernel and balanced class weights and achieve an accuracy score of 0.71 on the test set."
   ]
  },
  {
   "cell_type": "code",
   "execution_count": 7,
   "metadata": {},
   "outputs": [
    {
     "data": {
      "text/plain": [
       "0.7102473498233216"
      ]
     },
     "execution_count": 7,
     "metadata": {},
     "output_type": "execute_result"
    }
   ],
   "source": [
    "X_train, X_test, y_train, y_test = train_test_split(X, y, test_size=0.33, random_state=42)\n",
    "\n",
    "clf = SVC(C=0.01, kernel='linear', class_weight='balanced')\n",
    "clf.fit(X_train, y_train) \n",
    "\n",
    "y_pred = clf.predict(X_test)\n",
    "\n",
    "accuracy_score(y_test, y_pred)"
   ]
  },
  {
   "cell_type": "markdown",
   "metadata": {},
   "source": [
    "Now we present the more complex pipeline for disease progression prediction. First, we load and clean data."
   ]
  },
  {
   "cell_type": "code",
   "execution_count": 8,
   "metadata": {},
   "outputs": [
    {
     "name": "stderr",
     "output_type": "stream",
     "text": [
      "/usr/local/lib/python2.7/dist-packages/IPython/core/interactiveshell.py:2714: DtypeWarning: Columns (11,13,14,48,49,52,54,55,57,58,59,60,80,87,91,94,103,107,110,114,117,119,123,124,127,155,157,159,174,181,182,185,210,211,224,232,235,237,238,239,240,265,299,312,441,444,446,448,455,458,462,477,480,484,485,486,492,502,512,514,516,519,521,523,526,530,533,535,537,540,542,544,554,556,558,561,563,565,568,570,595,596,598,599,600,601,604,605,610) have mixed types. Specify dtype option on import or set low_memory=False.\n",
      "  interactivity=interactivity, compiler=compiler, result=result)\n"
     ]
    }
   ],
   "source": [
    "test = pd.read_csv(\"../data/PER_PATIENT_VISIT.csv\")\n",
    "work = test[ [\n",
    "'PUBLIC_ID',\n",
    "'D_LAB_chem_totprot',\n",
    "'D_LAB_chem_creatinine',\n",
    "'D_LAB_chem_calcium',\n",
    "'D_LAB_chem_bun',\n",
    "'D_LAB_chem_albumin',\n",
    "'D_LAB_cbc_abs_neut',\n",
    "'D_LAB_serum_iga',\n",
    "'D_LAB_chem_glucose',\n",
    "'D_LAB_cbc_hemoglobin',\n",
    "'D_LAB_cbc_platelet',\n",
    "'D_LAB_cbc_wbc',\n",
    "'D_TRI_CF_WASCYTOGENICS',\n",
    "\n",
    "'AT_TREATMENTRESP'] ]\n",
    "\n",
    "work = work[pd.notnull(work['AT_TREATMENTRESP'])]\n",
    "\n",
    "work = work.replace({'Stable Disease': 0, 'Partial Response': 0, 'Very Good Partial Response (VGPR)': 0, 'Progressive Disease': 1, 'Complete Response': 0, 'Stringent Complete Response (sCR)': 0})\n",
    "work = work.replace({'No': 0, 'Yes': 1})\n",
    "\n",
    "#work = work.dropna()\n",
    "\n",
    "work.PUBLIC_ID = work.PUBLIC_ID.apply(lambda x: int(x[-4:]))\n",
    "X = work[[\n",
    "'PUBLIC_ID',\n",
    "'D_LAB_chem_totprot',\n",
    "'D_LAB_chem_creatinine',\n",
    "'D_LAB_chem_calcium',\n",
    "'D_LAB_chem_bun',\n",
    "'D_LAB_chem_albumin',\n",
    "'D_LAB_cbc_abs_neut',\n",
    "'D_LAB_serum_iga',\n",
    "'D_LAB_chem_glucose',\n",
    "'D_LAB_cbc_hemoglobin',\n",
    "'D_LAB_cbc_platelet',\n",
    "'D_LAB_cbc_wbc',\n",
    "'D_TRI_CF_WASCYTOGENICS'\n",
    "]]\n",
    "\n",
    "Y = work['AT_TREATMENTRESP']\n",
    "\n",
    "imputer = Imputer()\n",
    "X = imputer.fit_transform(X)"
   ]
  },
  {
   "cell_type": "markdown",
   "metadata": {},
   "source": [
    "Now we split the data into training and testing, and train the model. We performed hyperparameter selection across kernels and regularization values for our SVM. In the end, the SVM with a linear kernel and a cost value of 0.01 performed best."
   ]
  },
  {
   "cell_type": "code",
   "execution_count": 9,
   "metadata": {
    "scrolled": false
   },
   "outputs": [
    {
     "name": "stdout",
     "output_type": "stream",
     "text": [
      "linear 0.0001 Acc: 0.702485966319166\n",
      "F1 score: 0.23\n",
      "True stable: 821\n",
      "False stable: 320\n",
      "True Progression: 55\n",
      "False Progression: 51\n",
      "\n",
      "linear 0.001 Acc: 0.7554129911788292\n",
      "F1 score: 0.25\n",
      "True stable: 892\n",
      "False stable: 249\n",
      "True Progression: 50\n",
      "False Progression: 56\n",
      "\n",
      "linear 0.01 Acc: 0.7858861267040899\n",
      "F1 score: 0.29\n",
      "True stable: 926\n",
      "False stable: 215\n",
      "True Progression: 54\n",
      "False Progression: 52\n",
      "\n",
      "linear 0.1 Acc: 0.7345629510825983\n",
      "F1 score: 0.27\n",
      "True stable: 856\n",
      "False stable: 285\n",
      "True Progression: 60\n",
      "False Progression: 46\n",
      "\n",
      "linear 1 Acc: 0.6663993584603047\n",
      "F1 score: 0.25\n",
      "True stable: 762\n",
      "False stable: 379\n",
      "True Progression: 69\n",
      "False Progression: 37\n",
      "\n",
      "linear 10 Acc: 0.6792301523656776\n",
      "F1 score: 0.27\n",
      "True stable: 774\n",
      "False stable: 367\n",
      "True Progression: 73\n",
      "False Progression: 33\n",
      "\n"
     ]
    }
   ],
   "source": [
    "X_train, X_test, y_train, y_test = train_test_split(X, Y, test_size=0.20)#, random_state=42)\n",
    "\n",
    "for k in ['linear']:\n",
    "    for c in [0.0001, 0.001, 0.01, 0.1, 1, 10]:\n",
    "        clf = SVC(C=c, kernel=k, class_weight='balanced')\n",
    "        clf.fit(X_train, y_train) \n",
    "\n",
    "        y_pred = clf.predict(X_test)\n",
    "        f1 = f1_score(y_test, y_pred)\n",
    "        cm = confusion_matrix(y_test, y_pred)\n",
    "        \n",
    "        print k, c, \"Acc:\", accuracy_score(y_test, y_pred)\n",
    "        print 'F1 score: {0:0.2f}'.format(f1)\n",
    "        \n",
    "        print 'True stable:', cm[0][0]\n",
    "        print 'False stable:', cm[0][1]\n",
    "        print 'True Progression:', cm[1][1]\n",
    "        print 'False Progression:', cm[1][0]\n",
    "        print ''\n"
   ]
  },
  {
   "cell_type": "code",
   "execution_count": 10,
   "metadata": {},
   "outputs": [
    {
     "name": "stderr",
     "output_type": "stream",
     "text": [
      "/usr/local/lib/python2.7/dist-packages/sklearn/metrics/classification.py:1135: UndefinedMetricWarning: F-score is ill-defined and being set to 0.0 due to no predicted samples.\n",
      "  'precision', 'predicted', average, warn_for)\n"
     ]
    },
    {
     "name": "stdout",
     "output_type": "stream",
     "text": [
      "rbf 0.0001 Acc: 0.9230152365677626\n",
      "F1 score: 0.00\n",
      "True stable: 1151\n",
      "False stable: 0\n",
      "True Progression: 0\n",
      "False Progression: 96\n",
      "\n",
      "[[1151    0]\n",
      " [  96    0]]\n",
      "rbf 0.001 Acc: 0.9230152365677626\n",
      "F1 score: 0.00\n",
      "True stable: 1151\n",
      "False stable: 0\n",
      "True Progression: 0\n",
      "False Progression: 96\n",
      "\n",
      "[[1151    0]\n",
      " [  96    0]]\n",
      "rbf 0.01 Acc: 0.07698476343223737\n",
      "F1 score: 0.14\n",
      "True stable: 0\n",
      "False stable: 1151\n",
      "True Progression: 96\n",
      "False Progression: 0\n",
      "\n",
      "[[   0 1151]\n",
      " [   0   96]]\n",
      "rbf 0.1 Acc: 0.9230152365677626\n",
      "F1 score: 0.00\n",
      "True stable: 1151\n",
      "False stable: 0\n",
      "True Progression: 0\n",
      "False Progression: 96\n",
      "\n",
      "[[1151    0]\n",
      " [  96    0]]\n",
      "rbf 1 Acc: 0.9230152365677626\n",
      "F1 score: 0.00\n",
      "True stable: 1151\n",
      "False stable: 0\n",
      "True Progression: 0\n",
      "False Progression: 96\n",
      "\n",
      "[[1151    0]\n",
      " [  96    0]]\n",
      "rbf 10 Acc: 0.9230152365677626\n",
      "F1 score: 0.00\n",
      "True stable: 1151\n",
      "False stable: 0\n",
      "True Progression: 0\n",
      "False Progression: 96\n",
      "\n",
      "[[1151    0]\n",
      " [  96    0]]\n"
     ]
    }
   ],
   "source": [
    "X_train, X_test, y_train, y_test = train_test_split(X, Y, test_size=0.20)#, random_state=42)\n",
    "\n",
    "for k in ['rbf']:\n",
    "    for c in [0.0001, 0.001, 0.01, 0.1, 1, 10]:\n",
    "        clf = SVC(C=c, kernel=k, class_weight='balanced')\n",
    "        clf.fit(X_train, y_train) \n",
    "\n",
    "        y_pred = clf.predict(X_test)\n",
    "        f1 = f1_score(y_test, y_pred)\n",
    "        cm = confusion_matrix(y_test, y_pred)\n",
    "        \n",
    "        print k, c, \"Acc:\", accuracy_score(y_test, y_pred)\n",
    "        print 'F1 score: {0:0.2f}'.format(f1)\n",
    "        \n",
    "        print 'True stable:', cm[0][0]\n",
    "        print 'False stable:', cm[0][1]\n",
    "        print 'True Progression:', cm[1][1]\n",
    "        print 'False Progression:', cm[1][0]\n",
    "        print ''\n",
    "        print cm"
   ]
  },
  {
   "cell_type": "code",
   "execution_count": 13,
   "metadata": {},
   "outputs": [
    {
     "data": {
      "text/plain": [
       "<Figure size 1080x576 with 0 Axes>"
      ]
     },
     "metadata": {},
     "output_type": "display_data"
    }
   ],
   "source": [
    "fig = plt.figure(figsize=(15, 8))\n",
    "colors = [1, 2]\n",
    "tsne = manifold.TSNE(n_components=2, init='pca', random_state=0)\n",
    "X_fit = tsne.fit_transform(X)"
   ]
  },
  {
   "cell_type": "code",
   "execution_count": 14,
   "metadata": {},
   "outputs": [
    {
     "name": "stdout",
     "output_type": "stream",
     "text": [
      "(6233, 13) (6233,)\n"
     ]
    },
    {
     "data": {
      "image/png": "[encoded data removed]",
      "text/plain": [
       "<Figure size 432x288 with 1 Axes>"
      ]
     },
     "metadata": {},
     "output_type": "display_data"
    }
   ],
   "source": [
    "#ax = fig.add_subplot(2, 5, 10)\n",
    "print X.shape, Y.shape\n",
    "plt.scatter(X_fit[:, 0], X_fit[:, 1], c = Y, cmap=plt.cm.Spectral)\n",
    "plt.title(\"t-SNE embedding of features\")\n",
    "plt.show()"
   ]
  }
 ],
 "metadata": {
  "kernelspec": {
   "display_name": "Python 2",
   "language": "python",
   "name": "python2"
  },
  "language_info": {
   "codemirror_mode": {
    "name": "ipython",
    "version": 2
   },
   "file_extension": ".py",
   "mimetype": "text/x-python",
   "name": "python",
   "nbconvert_exporter": "python",
   "pygments_lexer": "ipython2",
   "version": "2.7.12"
  }
 },
 "nbformat": 4,
 "nbformat_minor": 2
}
